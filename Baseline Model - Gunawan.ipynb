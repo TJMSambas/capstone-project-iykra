{
 "cells": [
  {
   "cell_type": "markdown",
   "metadata": {},
   "source": [
    "<span style=\"font-size:36px\"><b>Baseline Model</b></span>\n",
    "\n",
    "Copyright &copy; 2019 Gunawan Lumban Gaol\n",
    "\n",
    "Licensed under the Apache License, Version 2.0 (the \"License\"); you may not use this file except in compliance with the License. You may obtain a copy of the License at http://www.apache.org/licenses/LICENSE-2.0\n",
    "\n",
    "Unless required by applicable law or agreed to in writing, software distributed under the License is distributed on an \"AS IS\" BASIS, WITHOUT WARRANTIES OR CONDITIONS OF ANY KIND, either express or implied. See the License for the specific language overning permissions and limitations under the License."
   ]
  },
  {
   "cell_type": "markdown",
   "metadata": {},
   "source": [
    "# Import Packages"
   ]
  },
  {
   "cell_type": "code",
   "execution_count": 92,
   "metadata": {
    "ExecuteTime": {
     "end_time": "2019-12-10T09:02:44.525750Z",
     "start_time": "2019-12-10T09:02:44.510750Z"
    }
   },
   "outputs": [],
   "source": [
    "import numpy as np\n",
    "import pandas as pd\n",
    "\n",
    "from edapy.edapy import transformation"
   ]
  },
  {
   "cell_type": "markdown",
   "metadata": {},
   "source": [
    "# Import Data"
   ]
  },
  {
   "cell_type": "code",
   "execution_count": 93,
   "metadata": {
    "ExecuteTime": {
     "end_time": "2019-12-10T09:03:36.268000Z",
     "start_time": "2019-12-10T09:02:44.814750Z"
    }
   },
   "outputs": [],
   "source": [
    "# Main database\n",
    "application_train = pd.read_csv('csv/application_train.csv')\n",
    "application_test = pd.read_csv('csv/application_test.csv')\n",
    "\n",
    "# Previous application\n",
    "previous_application = pd.read_csv('csv/previous_application.csv')\n",
    "pos_cash_balance = pd.read_csv('csv/POS_CASH_balance.csv')\n",
    "installments_payments = pd.read_csv('csv/installments_payments.csv')\n",
    "cc_balance = pd.read_csv('csv/credit_card_balance.csv')\n",
    "\n",
    "# Bureau data\n",
    "bureau = pd.read_csv('csv/bureau.csv')\n",
    "bureau_balance = pd.read_csv('csv/bureau_balance.csv')"
   ]
  },
  {
   "cell_type": "markdown",
   "metadata": {},
   "source": [
    "# Baseline Main Application Data\n",
    "\n",
    "See train and test data shape."
   ]
  },
  {
   "cell_type": "code",
   "execution_count": 94,
   "metadata": {
    "ExecuteTime": {
     "end_time": "2019-12-10T09:03:36.282500Z",
     "start_time": "2019-12-10T09:03:36.270500Z"
    }
   },
   "outputs": [
    {
     "name": "stdout",
     "output_type": "stream",
     "text": [
      "application train shape:  (307511, 122)\n",
      "application test shape:  (48744, 121)\n",
      "train/test ratio: 0.863/0.137\n"
     ]
    }
   ],
   "source": [
    "total_shape = application_train.shape[0] + application_test.shape[0]\n",
    "print(\"application train shape: \", application_train.shape)\n",
    "print(\"application test shape: \", application_test.shape)\n",
    "print(\"train/test ratio: {:.3f}/{:.3f}\".format(application_train.shape[0] / total_shape, application_test.shape[0] / total_shape))"
   ]
  },
  {
   "cell_type": "code",
   "execution_count": 95,
   "metadata": {
    "ExecuteTime": {
     "end_time": "2019-12-10T09:03:36.300500Z",
     "start_time": "2019-12-10T09:03:36.288500Z"
    }
   },
   "outputs": [],
   "source": [
    "col_ID = 'SK_ID_CURR'\n",
    "col_target = 'TARGET'"
   ]
  },
  {
   "cell_type": "markdown",
   "metadata": {},
   "source": [
    "## Data Preprocessing\n",
    "\n",
    "* Check infinite values data, remove or convert to null if necessary\n",
    "* Check duplicated data, remove them if necessary\n",
    "* Check missing & null data, remove them if necessary\n",
    "* Split numerical and categorical column"
   ]
  },
  {
   "cell_type": "markdown",
   "metadata": {},
   "source": [
    "### Infinite Values"
   ]
  },
  {
   "cell_type": "code",
   "execution_count": 96,
   "metadata": {
    "ExecuteTime": {
     "end_time": "2019-12-10T09:03:36.325500Z",
     "start_time": "2019-12-10T09:03:36.306500Z"
    }
   },
   "outputs": [],
   "source": [
    "def get_infinite(df):\n",
    "    infinite_df = df.isin([np.inf, -np.inf]).sum(axis=0).reset_index()\n",
    "    infinite_df.columns = ['variable', 'infinite_values']\n",
    "    infinite_df['non-inf factor (%)'] = (df.shape[0] - infinite_df['infinite_values'])/df.shape[0]*100\n",
    "    infinite_df = infinite_df.sort_values('non-inf factor (%)').reset_index(drop=True)\n",
    "    \n",
    "    return infinite_df"
   ]
  },
  {
   "cell_type": "code",
   "execution_count": 97,
   "metadata": {
    "ExecuteTime": {
     "end_time": "2019-12-10T09:03:40.161500Z",
     "start_time": "2019-12-10T09:03:36.328500Z"
    }
   },
   "outputs": [
    {
     "data": {
      "text/html": [
       "<div>\n",
       "<style scoped>\n",
       "    .dataframe tbody tr th:only-of-type {\n",
       "        vertical-align: middle;\n",
       "    }\n",
       "\n",
       "    .dataframe tbody tr th {\n",
       "        vertical-align: top;\n",
       "    }\n",
       "\n",
       "    .dataframe thead th {\n",
       "        text-align: right;\n",
       "    }\n",
       "</style>\n",
       "<table border=\"1\" class=\"dataframe\">\n",
       "  <thead>\n",
       "    <tr style=\"text-align: right;\">\n",
       "      <th></th>\n",
       "      <th>variable</th>\n",
       "      <th>infinite_values</th>\n",
       "      <th>non-inf factor (%)</th>\n",
       "    </tr>\n",
       "  </thead>\n",
       "  <tbody>\n",
       "    <tr>\n",
       "      <th>0</th>\n",
       "      <td>SK_ID_CURR</td>\n",
       "      <td>0</td>\n",
       "      <td>100.0</td>\n",
       "    </tr>\n",
       "    <tr>\n",
       "      <th>1</th>\n",
       "      <td>TOTALAREA_MODE</td>\n",
       "      <td>0</td>\n",
       "      <td>100.0</td>\n",
       "    </tr>\n",
       "    <tr>\n",
       "      <th>2</th>\n",
       "      <td>HOUSETYPE_MODE</td>\n",
       "      <td>0</td>\n",
       "      <td>100.0</td>\n",
       "    </tr>\n",
       "    <tr>\n",
       "      <th>3</th>\n",
       "      <td>FONDKAPREMONT_MODE</td>\n",
       "      <td>0</td>\n",
       "      <td>100.0</td>\n",
       "    </tr>\n",
       "    <tr>\n",
       "      <th>4</th>\n",
       "      <td>NONLIVINGAREA_MEDI</td>\n",
       "      <td>0</td>\n",
       "      <td>100.0</td>\n",
       "    </tr>\n",
       "    <tr>\n",
       "      <th>...</th>\n",
       "      <td>...</td>\n",
       "      <td>...</td>\n",
       "      <td>...</td>\n",
       "    </tr>\n",
       "    <tr>\n",
       "      <th>117</th>\n",
       "      <td>REG_REGION_NOT_LIVE_REGION</td>\n",
       "      <td>0</td>\n",
       "      <td>100.0</td>\n",
       "    </tr>\n",
       "    <tr>\n",
       "      <th>118</th>\n",
       "      <td>HOUR_APPR_PROCESS_START</td>\n",
       "      <td>0</td>\n",
       "      <td>100.0</td>\n",
       "    </tr>\n",
       "    <tr>\n",
       "      <th>119</th>\n",
       "      <td>WEEKDAY_APPR_PROCESS_START</td>\n",
       "      <td>0</td>\n",
       "      <td>100.0</td>\n",
       "    </tr>\n",
       "    <tr>\n",
       "      <th>120</th>\n",
       "      <td>REGION_RATING_CLIENT</td>\n",
       "      <td>0</td>\n",
       "      <td>100.0</td>\n",
       "    </tr>\n",
       "    <tr>\n",
       "      <th>121</th>\n",
       "      <td>AMT_REQ_CREDIT_BUREAU_YEAR</td>\n",
       "      <td>0</td>\n",
       "      <td>100.0</td>\n",
       "    </tr>\n",
       "  </tbody>\n",
       "</table>\n",
       "<p>122 rows × 3 columns</p>\n",
       "</div>"
      ],
      "text/plain": [
       "                       variable  infinite_values  non-inf factor (%)\n",
       "0                    SK_ID_CURR                0               100.0\n",
       "1                TOTALAREA_MODE                0               100.0\n",
       "2                HOUSETYPE_MODE                0               100.0\n",
       "3            FONDKAPREMONT_MODE                0               100.0\n",
       "4            NONLIVINGAREA_MEDI                0               100.0\n",
       "..                          ...              ...                 ...\n",
       "117  REG_REGION_NOT_LIVE_REGION                0               100.0\n",
       "118     HOUR_APPR_PROCESS_START                0               100.0\n",
       "119  WEEKDAY_APPR_PROCESS_START                0               100.0\n",
       "120        REGION_RATING_CLIENT                0               100.0\n",
       "121  AMT_REQ_CREDIT_BUREAU_YEAR                0               100.0\n",
       "\n",
       "[122 rows x 3 columns]"
      ]
     },
     "execution_count": 97,
     "metadata": {},
     "output_type": "execute_result"
    }
   ],
   "source": [
    "get_infinite(application_train)"
   ]
  },
  {
   "cell_type": "code",
   "execution_count": 98,
   "metadata": {
    "ExecuteTime": {
     "end_time": "2019-12-10T09:03:40.810500Z",
     "start_time": "2019-12-10T09:03:40.164500Z"
    }
   },
   "outputs": [
    {
     "data": {
      "text/html": [
       "<div>\n",
       "<style scoped>\n",
       "    .dataframe tbody tr th:only-of-type {\n",
       "        vertical-align: middle;\n",
       "    }\n",
       "\n",
       "    .dataframe tbody tr th {\n",
       "        vertical-align: top;\n",
       "    }\n",
       "\n",
       "    .dataframe thead th {\n",
       "        text-align: right;\n",
       "    }\n",
       "</style>\n",
       "<table border=\"1\" class=\"dataframe\">\n",
       "  <thead>\n",
       "    <tr style=\"text-align: right;\">\n",
       "      <th></th>\n",
       "      <th>variable</th>\n",
       "      <th>infinite_values</th>\n",
       "      <th>non-inf factor (%)</th>\n",
       "    </tr>\n",
       "  </thead>\n",
       "  <tbody>\n",
       "    <tr>\n",
       "      <th>0</th>\n",
       "      <td>SK_ID_CURR</td>\n",
       "      <td>0</td>\n",
       "      <td>100.0</td>\n",
       "    </tr>\n",
       "    <tr>\n",
       "      <th>1</th>\n",
       "      <td>TOTALAREA_MODE</td>\n",
       "      <td>0</td>\n",
       "      <td>100.0</td>\n",
       "    </tr>\n",
       "    <tr>\n",
       "      <th>2</th>\n",
       "      <td>HOUSETYPE_MODE</td>\n",
       "      <td>0</td>\n",
       "      <td>100.0</td>\n",
       "    </tr>\n",
       "    <tr>\n",
       "      <th>3</th>\n",
       "      <td>FONDKAPREMONT_MODE</td>\n",
       "      <td>0</td>\n",
       "      <td>100.0</td>\n",
       "    </tr>\n",
       "    <tr>\n",
       "      <th>4</th>\n",
       "      <td>NONLIVINGAREA_MEDI</td>\n",
       "      <td>0</td>\n",
       "      <td>100.0</td>\n",
       "    </tr>\n",
       "    <tr>\n",
       "      <th>...</th>\n",
       "      <td>...</td>\n",
       "      <td>...</td>\n",
       "      <td>...</td>\n",
       "    </tr>\n",
       "    <tr>\n",
       "      <th>116</th>\n",
       "      <td>REG_REGION_NOT_LIVE_REGION</td>\n",
       "      <td>0</td>\n",
       "      <td>100.0</td>\n",
       "    </tr>\n",
       "    <tr>\n",
       "      <th>117</th>\n",
       "      <td>HOUR_APPR_PROCESS_START</td>\n",
       "      <td>0</td>\n",
       "      <td>100.0</td>\n",
       "    </tr>\n",
       "    <tr>\n",
       "      <th>118</th>\n",
       "      <td>WEEKDAY_APPR_PROCESS_START</td>\n",
       "      <td>0</td>\n",
       "      <td>100.0</td>\n",
       "    </tr>\n",
       "    <tr>\n",
       "      <th>119</th>\n",
       "      <td>YEARS_BEGINEXPLUATATION_MODE</td>\n",
       "      <td>0</td>\n",
       "      <td>100.0</td>\n",
       "    </tr>\n",
       "    <tr>\n",
       "      <th>120</th>\n",
       "      <td>AMT_REQ_CREDIT_BUREAU_YEAR</td>\n",
       "      <td>0</td>\n",
       "      <td>100.0</td>\n",
       "    </tr>\n",
       "  </tbody>\n",
       "</table>\n",
       "<p>121 rows × 3 columns</p>\n",
       "</div>"
      ],
      "text/plain": [
       "                         variable  infinite_values  non-inf factor (%)\n",
       "0                      SK_ID_CURR                0               100.0\n",
       "1                  TOTALAREA_MODE                0               100.0\n",
       "2                  HOUSETYPE_MODE                0               100.0\n",
       "3              FONDKAPREMONT_MODE                0               100.0\n",
       "4              NONLIVINGAREA_MEDI                0               100.0\n",
       "..                            ...              ...                 ...\n",
       "116    REG_REGION_NOT_LIVE_REGION                0               100.0\n",
       "117       HOUR_APPR_PROCESS_START                0               100.0\n",
       "118    WEEKDAY_APPR_PROCESS_START                0               100.0\n",
       "119  YEARS_BEGINEXPLUATATION_MODE                0               100.0\n",
       "120    AMT_REQ_CREDIT_BUREAU_YEAR                0               100.0\n",
       "\n",
       "[121 rows x 3 columns]"
      ]
     },
     "execution_count": 98,
     "metadata": {},
     "output_type": "execute_result"
    }
   ],
   "source": [
    "get_infinite(application_test)"
   ]
  },
  {
   "cell_type": "markdown",
   "metadata": {},
   "source": [
    "### Duplicated Values"
   ]
  },
  {
   "cell_type": "code",
   "execution_count": 99,
   "metadata": {
    "ExecuteTime": {
     "end_time": "2019-12-10T09:03:47.221000Z",
     "start_time": "2019-12-10T09:03:44.676250Z"
    }
   },
   "outputs": [
    {
     "name": "stdout",
     "output_type": "stream",
     "text": [
      "Total number of duplicated data:  0\n",
      "Total number of duplicated data:  0\n"
     ]
    }
   ],
   "source": [
    "print(\"Total number of duplicated data: \", application_train.duplicated(subset=list(set(application_train.columns) - set(col_target))).sum())\n",
    "print(\"Total number of duplicated data: \", application_test.duplicated(subset=list(set(application_test.columns) - set(col_target))).sum())"
   ]
  },
  {
   "cell_type": "markdown",
   "metadata": {},
   "source": [
    "### Missing and Null Values"
   ]
  },
  {
   "cell_type": "code",
   "execution_count": 100,
   "metadata": {
    "ExecuteTime": {
     "end_time": "2019-12-10T09:03:47.230000Z",
     "start_time": "2019-12-10T09:03:47.224000Z"
    }
   },
   "outputs": [],
   "source": [
    "def get_missing(df):\n",
    "    missing_df = df.isnull().sum(axis=0).reset_index()\n",
    "    missing_df.columns = ['variable', 'missing values']\n",
    "    missing_df['filling factor (%)'] = (df.shape[0] - missing_df['missing values'])/df.shape[0]*100\n",
    "    missing_df = missing_df.sort_values('filling factor (%)').reset_index(drop = True)\n",
    "    \n",
    "    return missing_df"
   ]
  },
  {
   "cell_type": "code",
   "execution_count": 103,
   "metadata": {
    "ExecuteTime": {
     "end_time": "2019-12-10T09:06:11.521250Z",
     "start_time": "2019-12-10T09:06:11.146000Z"
    }
   },
   "outputs": [
    {
     "data": {
      "text/html": [
       "<div>\n",
       "<style scoped>\n",
       "    .dataframe tbody tr th:only-of-type {\n",
       "        vertical-align: middle;\n",
       "    }\n",
       "\n",
       "    .dataframe tbody tr th {\n",
       "        vertical-align: top;\n",
       "    }\n",
       "\n",
       "    .dataframe thead th {\n",
       "        text-align: right;\n",
       "    }\n",
       "</style>\n",
       "<table border=\"1\" class=\"dataframe\">\n",
       "  <thead>\n",
       "    <tr style=\"text-align: right;\">\n",
       "      <th></th>\n",
       "      <th>variable</th>\n",
       "      <th>missing values</th>\n",
       "      <th>filling factor (%)</th>\n",
       "    </tr>\n",
       "  </thead>\n",
       "  <tbody>\n",
       "    <tr>\n",
       "      <th>0</th>\n",
       "      <td>COMMONAREA_MEDI</td>\n",
       "      <td>214865</td>\n",
       "      <td>30.127703</td>\n",
       "    </tr>\n",
       "    <tr>\n",
       "      <th>1</th>\n",
       "      <td>COMMONAREA_MODE</td>\n",
       "      <td>214865</td>\n",
       "      <td>30.127703</td>\n",
       "    </tr>\n",
       "    <tr>\n",
       "      <th>2</th>\n",
       "      <td>COMMONAREA_AVG</td>\n",
       "      <td>214865</td>\n",
       "      <td>30.127703</td>\n",
       "    </tr>\n",
       "    <tr>\n",
       "      <th>3</th>\n",
       "      <td>NONLIVINGAPARTMENTS_AVG</td>\n",
       "      <td>213514</td>\n",
       "      <td>30.567037</td>\n",
       "    </tr>\n",
       "    <tr>\n",
       "      <th>4</th>\n",
       "      <td>NONLIVINGAPARTMENTS_MODE</td>\n",
       "      <td>213514</td>\n",
       "      <td>30.567037</td>\n",
       "    </tr>\n",
       "    <tr>\n",
       "      <th>5</th>\n",
       "      <td>NONLIVINGAPARTMENTS_MEDI</td>\n",
       "      <td>213514</td>\n",
       "      <td>30.567037</td>\n",
       "    </tr>\n",
       "    <tr>\n",
       "      <th>6</th>\n",
       "      <td>FONDKAPREMONT_MODE</td>\n",
       "      <td>210295</td>\n",
       "      <td>31.613828</td>\n",
       "    </tr>\n",
       "    <tr>\n",
       "      <th>7</th>\n",
       "      <td>LIVINGAPARTMENTS_MEDI</td>\n",
       "      <td>210199</td>\n",
       "      <td>31.645047</td>\n",
       "    </tr>\n",
       "    <tr>\n",
       "      <th>8</th>\n",
       "      <td>LIVINGAPARTMENTS_MODE</td>\n",
       "      <td>210199</td>\n",
       "      <td>31.645047</td>\n",
       "    </tr>\n",
       "    <tr>\n",
       "      <th>9</th>\n",
       "      <td>LIVINGAPARTMENTS_AVG</td>\n",
       "      <td>210199</td>\n",
       "      <td>31.645047</td>\n",
       "    </tr>\n",
       "    <tr>\n",
       "      <th>10</th>\n",
       "      <td>FLOORSMIN_MODE</td>\n",
       "      <td>208642</td>\n",
       "      <td>32.151370</td>\n",
       "    </tr>\n",
       "    <tr>\n",
       "      <th>11</th>\n",
       "      <td>FLOORSMIN_MEDI</td>\n",
       "      <td>208642</td>\n",
       "      <td>32.151370</td>\n",
       "    </tr>\n",
       "    <tr>\n",
       "      <th>12</th>\n",
       "      <td>FLOORSMIN_AVG</td>\n",
       "      <td>208642</td>\n",
       "      <td>32.151370</td>\n",
       "    </tr>\n",
       "    <tr>\n",
       "      <th>13</th>\n",
       "      <td>YEARS_BUILD_MODE</td>\n",
       "      <td>204488</td>\n",
       "      <td>33.502216</td>\n",
       "    </tr>\n",
       "    <tr>\n",
       "      <th>14</th>\n",
       "      <td>YEARS_BUILD_AVG</td>\n",
       "      <td>204488</td>\n",
       "      <td>33.502216</td>\n",
       "    </tr>\n",
       "    <tr>\n",
       "      <th>15</th>\n",
       "      <td>YEARS_BUILD_MEDI</td>\n",
       "      <td>204488</td>\n",
       "      <td>33.502216</td>\n",
       "    </tr>\n",
       "    <tr>\n",
       "      <th>16</th>\n",
       "      <td>OWN_CAR_AGE</td>\n",
       "      <td>202929</td>\n",
       "      <td>34.009190</td>\n",
       "    </tr>\n",
       "    <tr>\n",
       "      <th>17</th>\n",
       "      <td>LANDAREA_MODE</td>\n",
       "      <td>182590</td>\n",
       "      <td>40.623262</td>\n",
       "    </tr>\n",
       "    <tr>\n",
       "      <th>18</th>\n",
       "      <td>LANDAREA_MEDI</td>\n",
       "      <td>182590</td>\n",
       "      <td>40.623262</td>\n",
       "    </tr>\n",
       "    <tr>\n",
       "      <th>19</th>\n",
       "      <td>LANDAREA_AVG</td>\n",
       "      <td>182590</td>\n",
       "      <td>40.623262</td>\n",
       "    </tr>\n",
       "    <tr>\n",
       "      <th>20</th>\n",
       "      <td>BASEMENTAREA_MEDI</td>\n",
       "      <td>179943</td>\n",
       "      <td>41.484044</td>\n",
       "    </tr>\n",
       "    <tr>\n",
       "      <th>21</th>\n",
       "      <td>BASEMENTAREA_MODE</td>\n",
       "      <td>179943</td>\n",
       "      <td>41.484044</td>\n",
       "    </tr>\n",
       "    <tr>\n",
       "      <th>22</th>\n",
       "      <td>BASEMENTAREA_AVG</td>\n",
       "      <td>179943</td>\n",
       "      <td>41.484044</td>\n",
       "    </tr>\n",
       "    <tr>\n",
       "      <th>23</th>\n",
       "      <td>EXT_SOURCE_1</td>\n",
       "      <td>173378</td>\n",
       "      <td>43.618927</td>\n",
       "    </tr>\n",
       "    <tr>\n",
       "      <th>24</th>\n",
       "      <td>NONLIVINGAREA_AVG</td>\n",
       "      <td>169682</td>\n",
       "      <td>44.820836</td>\n",
       "    </tr>\n",
       "    <tr>\n",
       "      <th>25</th>\n",
       "      <td>NONLIVINGAREA_MODE</td>\n",
       "      <td>169682</td>\n",
       "      <td>44.820836</td>\n",
       "    </tr>\n",
       "    <tr>\n",
       "      <th>26</th>\n",
       "      <td>NONLIVINGAREA_MEDI</td>\n",
       "      <td>169682</td>\n",
       "      <td>44.820836</td>\n",
       "    </tr>\n",
       "    <tr>\n",
       "      <th>27</th>\n",
       "      <td>ELEVATORS_MODE</td>\n",
       "      <td>163891</td>\n",
       "      <td>46.704020</td>\n",
       "    </tr>\n",
       "    <tr>\n",
       "      <th>28</th>\n",
       "      <td>ELEVATORS_MEDI</td>\n",
       "      <td>163891</td>\n",
       "      <td>46.704020</td>\n",
       "    </tr>\n",
       "    <tr>\n",
       "      <th>29</th>\n",
       "      <td>ELEVATORS_AVG</td>\n",
       "      <td>163891</td>\n",
       "      <td>46.704020</td>\n",
       "    </tr>\n",
       "    <tr>\n",
       "      <th>30</th>\n",
       "      <td>WALLSMATERIAL_MODE</td>\n",
       "      <td>156341</td>\n",
       "      <td>49.159217</td>\n",
       "    </tr>\n",
       "    <tr>\n",
       "      <th>31</th>\n",
       "      <td>APARTMENTS_AVG</td>\n",
       "      <td>156061</td>\n",
       "      <td>49.250271</td>\n",
       "    </tr>\n",
       "    <tr>\n",
       "      <th>32</th>\n",
       "      <td>APARTMENTS_MODE</td>\n",
       "      <td>156061</td>\n",
       "      <td>49.250271</td>\n",
       "    </tr>\n",
       "    <tr>\n",
       "      <th>33</th>\n",
       "      <td>APARTMENTS_MEDI</td>\n",
       "      <td>156061</td>\n",
       "      <td>49.250271</td>\n",
       "    </tr>\n",
       "    <tr>\n",
       "      <th>34</th>\n",
       "      <td>ENTRANCES_MEDI</td>\n",
       "      <td>154828</td>\n",
       "      <td>49.651232</td>\n",
       "    </tr>\n",
       "    <tr>\n",
       "      <th>35</th>\n",
       "      <td>ENTRANCES_MODE</td>\n",
       "      <td>154828</td>\n",
       "      <td>49.651232</td>\n",
       "    </tr>\n",
       "    <tr>\n",
       "      <th>36</th>\n",
       "      <td>ENTRANCES_AVG</td>\n",
       "      <td>154828</td>\n",
       "      <td>49.651232</td>\n",
       "    </tr>\n",
       "    <tr>\n",
       "      <th>37</th>\n",
       "      <td>LIVINGAREA_MODE</td>\n",
       "      <td>154350</td>\n",
       "      <td>49.806674</td>\n",
       "    </tr>\n",
       "    <tr>\n",
       "      <th>38</th>\n",
       "      <td>LIVINGAREA_AVG</td>\n",
       "      <td>154350</td>\n",
       "      <td>49.806674</td>\n",
       "    </tr>\n",
       "    <tr>\n",
       "      <th>39</th>\n",
       "      <td>LIVINGAREA_MEDI</td>\n",
       "      <td>154350</td>\n",
       "      <td>49.806674</td>\n",
       "    </tr>\n",
       "    <tr>\n",
       "      <th>40</th>\n",
       "      <td>HOUSETYPE_MODE</td>\n",
       "      <td>154297</td>\n",
       "      <td>49.823909</td>\n",
       "    </tr>\n",
       "    <tr>\n",
       "      <th>41</th>\n",
       "      <td>FLOORSMAX_MODE</td>\n",
       "      <td>153020</td>\n",
       "      <td>50.239178</td>\n",
       "    </tr>\n",
       "    <tr>\n",
       "      <th>42</th>\n",
       "      <td>FLOORSMAX_AVG</td>\n",
       "      <td>153020</td>\n",
       "      <td>50.239178</td>\n",
       "    </tr>\n",
       "    <tr>\n",
       "      <th>43</th>\n",
       "      <td>FLOORSMAX_MEDI</td>\n",
       "      <td>153020</td>\n",
       "      <td>50.239178</td>\n",
       "    </tr>\n",
       "    <tr>\n",
       "      <th>44</th>\n",
       "      <td>YEARS_BEGINEXPLUATATION_AVG</td>\n",
       "      <td>150007</td>\n",
       "      <td>51.218981</td>\n",
       "    </tr>\n",
       "    <tr>\n",
       "      <th>45</th>\n",
       "      <td>YEARS_BEGINEXPLUATATION_MODE</td>\n",
       "      <td>150007</td>\n",
       "      <td>51.218981</td>\n",
       "    </tr>\n",
       "    <tr>\n",
       "      <th>46</th>\n",
       "      <td>YEARS_BEGINEXPLUATATION_MEDI</td>\n",
       "      <td>150007</td>\n",
       "      <td>51.218981</td>\n",
       "    </tr>\n",
       "    <tr>\n",
       "      <th>47</th>\n",
       "      <td>TOTALAREA_MODE</td>\n",
       "      <td>148431</td>\n",
       "      <td>51.731483</td>\n",
       "    </tr>\n",
       "    <tr>\n",
       "      <th>48</th>\n",
       "      <td>EMERGENCYSTATE_MODE</td>\n",
       "      <td>145755</td>\n",
       "      <td>52.601696</td>\n",
       "    </tr>\n",
       "    <tr>\n",
       "      <th>49</th>\n",
       "      <td>OCCUPATION_TYPE</td>\n",
       "      <td>96391</td>\n",
       "      <td>68.654455</td>\n",
       "    </tr>\n",
       "  </tbody>\n",
       "</table>\n",
       "</div>"
      ],
      "text/plain": [
       "                        variable  missing values  filling factor (%)\n",
       "0                COMMONAREA_MEDI          214865           30.127703\n",
       "1                COMMONAREA_MODE          214865           30.127703\n",
       "2                 COMMONAREA_AVG          214865           30.127703\n",
       "3        NONLIVINGAPARTMENTS_AVG          213514           30.567037\n",
       "4       NONLIVINGAPARTMENTS_MODE          213514           30.567037\n",
       "5       NONLIVINGAPARTMENTS_MEDI          213514           30.567037\n",
       "6             FONDKAPREMONT_MODE          210295           31.613828\n",
       "7          LIVINGAPARTMENTS_MEDI          210199           31.645047\n",
       "8          LIVINGAPARTMENTS_MODE          210199           31.645047\n",
       "9           LIVINGAPARTMENTS_AVG          210199           31.645047\n",
       "10                FLOORSMIN_MODE          208642           32.151370\n",
       "11                FLOORSMIN_MEDI          208642           32.151370\n",
       "12                 FLOORSMIN_AVG          208642           32.151370\n",
       "13              YEARS_BUILD_MODE          204488           33.502216\n",
       "14               YEARS_BUILD_AVG          204488           33.502216\n",
       "15              YEARS_BUILD_MEDI          204488           33.502216\n",
       "16                   OWN_CAR_AGE          202929           34.009190\n",
       "17                 LANDAREA_MODE          182590           40.623262\n",
       "18                 LANDAREA_MEDI          182590           40.623262\n",
       "19                  LANDAREA_AVG          182590           40.623262\n",
       "20             BASEMENTAREA_MEDI          179943           41.484044\n",
       "21             BASEMENTAREA_MODE          179943           41.484044\n",
       "22              BASEMENTAREA_AVG          179943           41.484044\n",
       "23                  EXT_SOURCE_1          173378           43.618927\n",
       "24             NONLIVINGAREA_AVG          169682           44.820836\n",
       "25            NONLIVINGAREA_MODE          169682           44.820836\n",
       "26            NONLIVINGAREA_MEDI          169682           44.820836\n",
       "27                ELEVATORS_MODE          163891           46.704020\n",
       "28                ELEVATORS_MEDI          163891           46.704020\n",
       "29                 ELEVATORS_AVG          163891           46.704020\n",
       "30            WALLSMATERIAL_MODE          156341           49.159217\n",
       "31                APARTMENTS_AVG          156061           49.250271\n",
       "32               APARTMENTS_MODE          156061           49.250271\n",
       "33               APARTMENTS_MEDI          156061           49.250271\n",
       "34                ENTRANCES_MEDI          154828           49.651232\n",
       "35                ENTRANCES_MODE          154828           49.651232\n",
       "36                 ENTRANCES_AVG          154828           49.651232\n",
       "37               LIVINGAREA_MODE          154350           49.806674\n",
       "38                LIVINGAREA_AVG          154350           49.806674\n",
       "39               LIVINGAREA_MEDI          154350           49.806674\n",
       "40                HOUSETYPE_MODE          154297           49.823909\n",
       "41                FLOORSMAX_MODE          153020           50.239178\n",
       "42                 FLOORSMAX_AVG          153020           50.239178\n",
       "43                FLOORSMAX_MEDI          153020           50.239178\n",
       "44   YEARS_BEGINEXPLUATATION_AVG          150007           51.218981\n",
       "45  YEARS_BEGINEXPLUATATION_MODE          150007           51.218981\n",
       "46  YEARS_BEGINEXPLUATATION_MEDI          150007           51.218981\n",
       "47                TOTALAREA_MODE          148431           51.731483\n",
       "48           EMERGENCYSTATE_MODE          145755           52.601696\n",
       "49               OCCUPATION_TYPE           96391           68.654455"
      ]
     },
     "execution_count": 103,
     "metadata": {},
     "output_type": "execute_result"
    }
   ],
   "source": [
    "missing_df = get_missing(application_train).head(50)\n",
    "missing_df"
   ]
  },
  {
   "cell_type": "code",
   "execution_count": 109,
   "metadata": {
    "ExecuteTime": {
     "end_time": "2019-12-10T09:09:43.687750Z",
     "start_time": "2019-12-10T09:09:43.483000Z"
    }
   },
   "outputs": [],
   "source": [
    "application_train.drop(columns=missing_df['variable'].to_list(), axis=1, inplace=True)"
   ]
  },
  {
   "cell_type": "markdown",
   "metadata": {},
   "source": [
    "### Split Numerical & Categorical Data"
   ]
  },
  {
   "cell_type": "code",
   "execution_count": 110,
   "metadata": {
    "ExecuteTime": {
     "end_time": "2019-12-10T09:09:49.410500Z",
     "start_time": "2019-12-10T09:09:46.452000Z"
    }
   },
   "outputs": [
    {
     "name": "stdout",
     "output_type": "stream",
     "text": [
      "Column TARGET casted to categorical\n",
      "Column NAME_CONTRACT_TYPE casted to categorical\n",
      "Column CODE_GENDER casted to categorical\n",
      "Column FLAG_OWN_CAR casted to categorical\n",
      "Column FLAG_OWN_REALTY casted to categorical\n",
      "Column CNT_CHILDREN casted to categorical\n",
      "Column NAME_TYPE_SUITE casted to categorical\n",
      "Column NAME_INCOME_TYPE casted to categorical\n",
      "Column NAME_EDUCATION_TYPE casted to categorical\n",
      "Column NAME_FAMILY_STATUS casted to categorical\n",
      "Column NAME_HOUSING_TYPE casted to categorical\n",
      "Column FLAG_MOBIL casted to categorical\n",
      "Column FLAG_EMP_PHONE casted to categorical\n",
      "Column FLAG_WORK_PHONE casted to categorical\n",
      "Column FLAG_CONT_MOBILE casted to categorical\n",
      "Column FLAG_PHONE casted to categorical\n",
      "Column FLAG_EMAIL casted to categorical\n",
      "Column CNT_FAM_MEMBERS casted to categorical\n",
      "Column REGION_RATING_CLIENT casted to categorical\n",
      "Column REGION_RATING_CLIENT_W_CITY casted to categorical\n",
      "Column WEEKDAY_APPR_PROCESS_START casted to categorical\n",
      "Column REG_REGION_NOT_LIVE_REGION casted to categorical\n",
      "Column REG_REGION_NOT_WORK_REGION casted to categorical\n",
      "Column LIVE_REGION_NOT_WORK_REGION casted to categorical\n",
      "Column REG_CITY_NOT_LIVE_CITY casted to categorical\n",
      "Column REG_CITY_NOT_WORK_CITY casted to categorical\n",
      "Column LIVE_CITY_NOT_WORK_CITY casted to categorical\n",
      "Column DEF_30_CNT_SOCIAL_CIRCLE casted to categorical\n",
      "Column DEF_60_CNT_SOCIAL_CIRCLE casted to categorical\n",
      "Column FLAG_DOCUMENT_2 casted to categorical\n",
      "Column FLAG_DOCUMENT_3 casted to categorical\n",
      "Column FLAG_DOCUMENT_4 casted to categorical\n",
      "Column FLAG_DOCUMENT_5 casted to categorical\n",
      "Column FLAG_DOCUMENT_6 casted to categorical\n",
      "Column FLAG_DOCUMENT_7 casted to categorical\n",
      "Column FLAG_DOCUMENT_8 casted to categorical\n",
      "Column FLAG_DOCUMENT_9 casted to categorical\n",
      "Column FLAG_DOCUMENT_10 casted to categorical\n",
      "Column FLAG_DOCUMENT_11 casted to categorical\n",
      "Column FLAG_DOCUMENT_12 casted to categorical\n",
      "Column FLAG_DOCUMENT_13 casted to categorical\n",
      "Column FLAG_DOCUMENT_14 casted to categorical\n",
      "Column FLAG_DOCUMENT_15 casted to categorical\n",
      "Column FLAG_DOCUMENT_16 casted to categorical\n",
      "Column FLAG_DOCUMENT_17 casted to categorical\n",
      "Column FLAG_DOCUMENT_18 casted to categorical\n",
      "Column FLAG_DOCUMENT_19 casted to categorical\n",
      "Column FLAG_DOCUMENT_20 casted to categorical\n",
      "Column FLAG_DOCUMENT_21 casted to categorical\n",
      "Column AMT_REQ_CREDIT_BUREAU_HOUR casted to categorical\n",
      "Column AMT_REQ_CREDIT_BUREAU_DAY casted to categorical\n",
      "Column AMT_REQ_CREDIT_BUREAU_WEEK casted to categorical\n",
      "Column AMT_REQ_CREDIT_BUREAU_QRT casted to categorical\n"
     ]
    }
   ],
   "source": [
    "transformation.convert_to_categorical(application_train)"
   ]
  },
  {
   "cell_type": "code",
   "execution_count": 111,
   "metadata": {
    "ExecuteTime": {
     "end_time": "2019-12-10T09:09:50.287500Z",
     "start_time": "2019-12-10T09:09:50.181750Z"
    }
   },
   "outputs": [],
   "source": [
    "if (application_train[col_target].nunique() == 2):\n",
    "    cols_num = list(set(application_train.select_dtypes(include=[np.number]).columns) - set([col_ID]))\n",
    "    cols_cat = list(set(application_train.select_dtypes(exclude=[np.number]).columns) - set([col_target]))\n",
    "else:\n",
    "    cols_num = list(set(application_train.select_dtypes(include=[np.number]).columns) - set([col_ID, col_target]))\n",
    "    cols_cat = list(set(application_train.select_dtypes(exclude=[np.number]).columns))"
   ]
  },
  {
   "cell_type": "markdown",
   "metadata": {},
   "source": [
    "## Logistic Regression"
   ]
  },
  {
   "cell_type": "code",
   "execution_count": 112,
   "metadata": {
    "ExecuteTime": {
     "end_time": "2019-12-10T09:10:00.642500Z",
     "start_time": "2019-12-10T09:09:50.805000Z"
    }
   },
   "outputs": [],
   "source": [
    "for col in cols_cat:\n",
    "    application_train = pd.concat([application_train, pd.get_dummies(application_train[col], prefix='d_'+col, drop_first=True)], axis=1)\n",
    "    \n",
    "cols_cat_d = application_train.columns[application_train.columns.str.startswith('d_')]\n",
    "cols_feature = cols_num + list(cols_cat_d.values)"
   ]
  },
  {
   "cell_type": "code",
   "execution_count": 113,
   "metadata": {
    "ExecuteTime": {
     "end_time": "2019-12-10T09:10:26.409750Z",
     "start_time": "2019-12-10T09:10:01.287500Z"
    }
   },
   "outputs": [],
   "source": [
    "application_train = application_train.replace([np.inf, -np.inf, 'XNA'], np.nan)\n",
    "application_train = application_train.dropna()"
   ]
  },
  {
   "cell_type": "code",
   "execution_count": 114,
   "metadata": {
    "ExecuteTime": {
     "end_time": "2019-12-10T09:10:26.434750Z",
     "start_time": "2019-12-10T09:10:26.411750Z"
    }
   },
   "outputs": [],
   "source": [
    "from sklearn.linear_model import LogisticRegression\n",
    "from sklearn.preprocessing import MinMaxScaler\n",
    "from sklearn.metrics import auc, confusion_matrix, roc_auc_score, classification_report, roc_curve\n",
    "from sklearn.model_selection import train_test_split\n",
    "import matplotlib.pyplot as plt\n",
    "\n",
    "def logistic_regression(X_train, X_test, y_train, y_test):\n",
    "#     X_train[cols_num] = X_train[cols_num] / X_train[cols_num].max()\n",
    "#     X_test[cols_num] = X_test[cols_num] / X_test[cols_num].max()\n",
    "    \n",
    "    log_reg = LogisticRegression(solver='lbfgs')\n",
    "    log_reg.fit(X_train, y_train)\n",
    "    \n",
    "    train_preds = log_reg.predict(X_train)\n",
    "    test_preds = log_reg.predict(X_test)\n",
    "    \n",
    "    cm_train = confusion_matrix(y_train, train_preds)\n",
    "    cm_test = confusion_matrix(y_test, test_preds)\n",
    "    \n",
    "    roc_auc_train = roc_auc_score(y_train, train_preds)\n",
    "    roc_auc_test = roc_auc_score(y_test, test_preds)\n",
    "    \n",
    "    print(classification_report(y_train, train_preds))\n",
    "    print()\n",
    "    print(classification_report(y_test, test_preds))\n",
    "    \n",
    "    # ROC Curve\n",
    "    y_train_sample_score = log_reg.decision_function(X_train)\n",
    "    fpr_train, tpr_train, thresholds = roc_curve(y_train, y_train_sample_score)\n",
    "    y_pred_sample_score = log_reg.decision_function(X_test)\n",
    "    fpr, tpr, thresholds = roc_curve(y_test, y_pred_sample_score)\n",
    "\n",
    "    roc_auc_train = auc(fpr_train, tpr_train)\n",
    "    roc_auc = auc(fpr,tpr)\n",
    "\n",
    "    # Plot ROC\n",
    "    fig, ax = plt.subplots(figsize=(8, 6))\n",
    "    plt.title('Receiver Operating Characteristic')\n",
    "    ax.plot(fpr_train, tpr_train, 'g', label='AUC_train = %0.3f'% roc_auc_train)\n",
    "    ax.plot(fpr, tpr, 'b',label='AUC = %0.3f'% roc_auc)\n",
    "    ax.legend(loc='lower right')\n",
    "    ax.plot([0,1],[0,1],'r--')\n",
    "    ax.set_xlim([0,1.0])\n",
    "    ax.set_ylim([0,1.01])\n",
    "    ax.set_ylabel('True Positive Rate')\n",
    "    ax.set_xlabel('False Positive Rate')\n",
    "    plt.show()\n",
    "    \n",
    "    return cm_train, cm_test, roc_auc_train, roc_auc_test"
   ]
  },
  {
   "cell_type": "code",
   "execution_count": 115,
   "metadata": {
    "ExecuteTime": {
     "end_time": "2019-12-10T09:10:27.312500Z",
     "start_time": "2019-12-10T09:10:26.438750Z"
    }
   },
   "outputs": [],
   "source": [
    "X_train, X_test, y_train, y_test = train_test_split(application_train[cols_feature], \n",
    "                                                    application_train[col_target], \n",
    "                                                    test_size=0.4, \n",
    "                                                    random_state=42, \n",
    "                                                    stratify=application_train[col_target])"
   ]
  },
  {
   "cell_type": "code",
   "execution_count": 116,
   "metadata": {
    "ExecuteTime": {
     "end_time": "2019-12-10T09:10:33.223250Z",
     "start_time": "2019-12-10T09:10:27.314500Z"
    }
   },
   "outputs": [
    {
     "name": "stderr",
     "output_type": "stream",
     "text": [
      "D:\\Anaconda2019\\lib\\site-packages\\sklearn\\linear_model\\logistic.py:947: ConvergenceWarning: lbfgs failed to converge. Increase the number of iterations.\n",
      "  \"of iterations.\", ConvergenceWarning)\n",
      "D:\\Anaconda2019\\lib\\site-packages\\sklearn\\metrics\\classification.py:1437: UndefinedMetricWarning: Precision and F-score are ill-defined and being set to 0.0 in labels with no predicted samples.\n",
      "  'precision', 'predicted', average, warn_for)\n"
     ]
    },
    {
     "name": "stdout",
     "output_type": "stream",
     "text": [
      "              precision    recall  f1-score   support\n",
      "\n",
      "           0       0.92      1.00      0.96    110163\n",
      "           1       0.00      0.00      0.00     10057\n",
      "\n",
      "    accuracy                           0.92    120220\n",
      "   macro avg       0.46      0.50      0.48    120220\n",
      "weighted avg       0.84      0.92      0.88    120220\n",
      "\n",
      "\n",
      "              precision    recall  f1-score   support\n",
      "\n",
      "           0       0.92      1.00      0.96     73442\n",
      "           1       0.00      0.00      0.00      6705\n",
      "\n",
      "    accuracy                           0.92     80147\n",
      "   macro avg       0.46      0.50      0.48     80147\n",
      "weighted avg       0.84      0.92      0.88     80147\n",
      "\n"
     ]
    },
    {
     "data": {
      "image/png": "[encoded data removed]",
      "text/plain": [
       "<Figure size 576x432 with 1 Axes>"
      ]
     },
     "metadata": {
      "needs_background": "light"
     },
     "output_type": "display_data"
    },
    {
     "data": {
      "text/plain": [
       "(array([[110163,      0],\n",
       "        [ 10057,      0]], dtype=int64), array([[73442,     0],\n",
       "        [ 6705,     0]], dtype=int64), 0.6249960196425504, 0.5)"
      ]
     },
     "execution_count": 116,
     "metadata": {},
     "output_type": "execute_result"
    }
   ],
   "source": [
    "logistic_regression(X_train, X_test, y_train, y_test)"
   ]
  }
 ],
 "metadata": {
  "hide_input": false,
  "kernelspec": {
   "display_name": "Python 3",
   "language": "python",
   "name": "python3"
  },
  "language_info": {
   "codemirror_mode": {
    "name": "ipython",
    "version": 3
   },
   "file_extension": ".py",
   "mimetype": "text/x-python",
   "name": "python",
   "nbconvert_exporter": "python",
   "pygments_lexer": "ipython3",
   "version": "3.7.3"
  },
  "toc": {
   "base_numbering": 1,
   "nav_menu": {},
   "number_sections": true,
   "sideBar": true,
   "skip_h1_title": false,
   "title_cell": "Table of Contents",
   "title_sidebar": "Contents",
   "toc_cell": false,
   "toc_position": {},
   "toc_section_display": true,
   "toc_window_display": true
  }
 },
 "nbformat": 4,
 "nbformat_minor": 2
}
